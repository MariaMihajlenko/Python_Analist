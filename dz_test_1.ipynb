{
 "cells": [
  {
   "cell_type": "markdown",
   "metadata": {},
   "source": [
    "# Дан список adv с затратами на рекламу. \n",
    "# Но в данных есть ошибки, некоторые затраты имеют отрицательную величину. \n",
    "# Удалите такие значения из списка и посчитайте суммарные затраты. \n",
    "# Запишите их в переменную x.\n",
    "# Используйте list comprehensions."
   ]
  },
  {
   "cell_type": "code",
   "execution_count": 16,
   "metadata": {},
   "outputs": [],
   "source": [
    "adv = [100, 125, -90, 345, 655, -1, 0, 200]\n",
    "array = [100, 125, -90, 345, 655, -1, 0, 200]\n",
    "x = sum([i for i in adv if i > 0])"
   ]
  },
  {
   "cell_type": "code",
   "execution_count": 6,
   "metadata": {},
   "outputs": [
    {
     "name": "stdout",
     "output_type": "stream",
     "text": [
      "1425\n"
     ]
    }
   ],
   "source": [
    "print(x)"
   ]
  },
  {
   "cell_type": "markdown",
   "metadata": {},
   "source": [
    "# На складе лежат разные фрукты в разном количестве.\n",
    "# Нужно написать функцию total_fruits, которая на вход принимает любое количество названий фруктов и их\n",
    "# количество, #а возвращает общее количество фруктов на складе.\n",
    "\n",
    "# можно решить через *kwargs"
   ]
  },
  {
   "cell_type": "code",
   "execution_count": 11,
   "metadata": {},
   "outputs": [],
   "source": [
    "def fruit_basket(**kwargs):\n",
    "    {print(f\"Фрукт {name} в количестве {values} шт\")\n",
    "     for name, values in kwargs.items()}\n",
    "    return print(f'Общее количество фрутов: {sum(kwargs.values())}')"
   ]
  },
  {
   "cell_type": "code",
   "execution_count": 12,
   "metadata": {},
   "outputs": [
    {
     "name": "stdout",
     "output_type": "stream",
     "text": [
      "Фрукт apple в количестве 23 шт\n",
      "Фрукт orange в количестве 15 шт\n",
      "Фрукт lemon в количестве 5 шт\n",
      "Общее количество фрутов: 43\n"
     ]
    }
   ],
   "source": [
    "fruit_basket(\n",
    "    apple = 23,\n",
    "    orange = 15,\n",
    "    lemon = 5\n",
    ")"
   ]
  },
  {
   "cell_type": "markdown",
   "metadata": {},
   "source": [
    "# Даны два списка: дата покупки dates, суммы покупок по датам income.\n",
    "# Найти итоговую сумму всех покупок в ноябре и сохранить ее в переменную x.\n",
    "# Используйте list comprehensions."
   ]
  },
  {
   "cell_type": "code",
   "execution_count": 14,
   "metadata": {},
   "outputs": [],
   "source": [
    "# Введите ваше решение ниже\n",
    "dates = ['2021-11-01']\n",
    "income = [100]\n",
    "x = sum([income [i] for i in range (len(dates)) if dates[i].split('-')[1] == '11'])"
   ]
  }
 ],
 "metadata": {
  "kernelspec": {
   "display_name": "Python 3",
   "language": "python",
   "name": "python3"
  },
  "language_info": {
   "codemirror_mode": {
    "name": "ipython",
    "version": 3
   },
   "file_extension": ".py",
   "mimetype": "text/x-python",
   "name": "python",
   "nbconvert_exporter": "python",
   "pygments_lexer": "ipython3",
   "version": "3.10.8"
  }
 },
 "nbformat": 4,
 "nbformat_minor": 2
}
